{
 "cells": [
  {
   "cell_type": "code",
   "execution_count": null,
   "id": "7725386a",
   "metadata": {},
   "outputs": [],
   "source": [
    "print (10)"
   ]
  }
 ],
 "metadata": {
  "language_info": {
   "name": "python"
  }
 },
 "nbformat": 4,
 "nbformat_minor": 5
}
